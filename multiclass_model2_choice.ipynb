{
 "cells": [
  {
   "cell_type": "markdown",
   "metadata": {},
   "source": [
    "# Second Baseline model\n",
    "Okay now that I have the features I wanted and they're all numerical now, I will try knn and Logistic regression to get a baseline model now"
   ]
  },
  {
   "cell_type": "code",
   "execution_count": 56,
   "metadata": {},
   "outputs": [],
   "source": [
    "from sklearn.model_selection import train_test_split, cross_val_score, KFold\n",
    "from sklearn.linear_model import LinearRegression, LogisticRegression\n",
    "from sklearn.neighbors import KNeighborsClassifier\n",
    "from sklearn.metrics import mean_absolute_error, accuracy_score, classification_report, plot_confusion_matrix\n",
    "from sklearn.preprocessing import StandardScaler\n",
    "import matplotlib.pyplot as plt\n",
    "%matplotlib inline\n",
    "\n",
    "import pandas as pd\n",
    "\n",
    "from pre_process import num_of_vars, change_vars, make_binary\n",
    "from compare_models import train_val_test, logistic_report, knn_report, rfc_report, gb_report, compare\n"
   ]
  },
  {
   "cell_type": "code",
   "execution_count": 2,
   "metadata": {},
   "outputs": [],
   "source": [
    "non_preg2 = pd.read_pickle('second_model_df.pkl')"
   ]
  },
  {
   "cell_type": "code",
   "execution_count": 3,
   "metadata": {},
   "outputs": [],
   "source": [
    "#define the features and target\n",
    "features = ['Age', 'Num_children_born',\n",
    "              'Num_living_children', 'age_at_first_marriage',\n",
    "              'age_at_first_intercourse', \n",
    "              'freq_of_intercourse',\n",
    "              'Religion_dup', 'children_in_residence',\n",
    "              'Knowledge_of_ovulatory_cycle_dup', \n",
    "              'Knows_method_source_dup', \n",
    "              'currently_abstaining_dup', \n",
    "              'desire_for_more_kids_dup', \n",
    "              'Woman_worked_after_marriage_dup', \n",
    "              'Woman_currently_working_dup', \n",
    "              'heard_FP_message_in_last_month_dup', \n",
    "              'Has_transportation', \n",
    "              'media_exposure_level', 'Education_level_dup', \n",
    "              'Literacy_dup', 'Husbands_edu_level_dup', \n",
    "              'Husbands_literacy_dup',\n",
    "              'Knowledge_of_methods_dup', 'Used_any_method_dup']\n",
    "\n",
    "target = 'Current_method_dup'\n",
    "\n",
    "X = non_preg2[features]\n",
    "y = non_preg2[target].astype(int)\n"
   ]
  },
  {
   "cell_type": "code",
   "execution_count": 4,
   "metadata": {},
   "outputs": [],
   "source": [
    "#split the data into train-test: 80-20\n",
    "X_train, X_test, y_train, y_test = train_test_split(X, y, test_size = .20, random_state = 42)\n"
   ]
  },
  {
   "cell_type": "markdown",
   "metadata": {},
   "source": [
    "# Try a logistic regression model"
   ]
  },
  {
   "cell_type": "code",
   "execution_count": 5,
   "metadata": {},
   "outputs": [
    {
     "name": "stdout",
     "output_type": "stream",
     "text": [
      "0.8198832417582418\n"
     ]
    },
    {
     "name": "stderr",
     "output_type": "stream",
     "text": [
      "/opt/anaconda3/lib/python3.8/site-packages/sklearn/linear_model/_logistic.py:762: ConvergenceWarning: lbfgs failed to converge (status=1):\n",
      "STOP: TOTAL NO. of ITERATIONS REACHED LIMIT.\n",
      "\n",
      "Increase the number of iterations (max_iter) or scale the data as shown in:\n",
      "    https://scikit-learn.org/stable/modules/preprocessing.html\n",
      "Please also refer to the documentation for alternative solver options:\n",
      "    https://scikit-learn.org/stable/modules/linear_model.html#logistic-regression\n",
      "  n_iter_i = _check_optimize_result(\n"
     ]
    }
   ],
   "source": [
    "logreg = LogisticRegression(penalty = 'none')\n",
    "logreg.fit(X_train, y_train)\n",
    "print(logreg.score(X_train, y_train))"
   ]
  },
  {
   "cell_type": "code",
   "execution_count": 6,
   "metadata": {},
   "outputs": [
    {
     "name": "stdout",
     "output_type": "stream",
     "text": [
      "0.8028846153846154\n"
     ]
    }
   ],
   "source": [
    "print(logreg.score(X_test, y_test))"
   ]
  },
  {
   "cell_type": "code",
   "execution_count": 7,
   "metadata": {},
   "outputs": [
    {
     "name": "stdout",
     "output_type": "stream",
     "text": [
      "              precision    recall  f1-score   support\n",
      "\n",
      "           0       0.86      0.71      0.78       596\n",
      "           1       0.00      0.00      0.00        92\n",
      "           2       0.77      0.97      0.86       768\n",
      "\n",
      "    accuracy                           0.80      1456\n",
      "   macro avg       0.54      0.56      0.55      1456\n",
      "weighted avg       0.76      0.80      0.77      1456\n",
      "\n"
     ]
    },
    {
     "name": "stderr",
     "output_type": "stream",
     "text": [
      "/opt/anaconda3/lib/python3.8/site-packages/sklearn/metrics/_classification.py:1221: UndefinedMetricWarning: Precision and F-score are ill-defined and being set to 0.0 in labels with no predicted samples. Use `zero_division` parameter to control this behavior.\n",
      "  _warn_prf(average, modifier, msg_start, len(result))\n"
     ]
    }
   ],
   "source": [
    "y_true, y_pred = y_test, logreg.predict(X_test)\n",
    "print(classification_report(y_true, y_pred))"
   ]
  },
  {
   "cell_type": "markdown",
   "metadata": {},
   "source": [
    "hmm... that kinda doesn't seem right.. I'm gonna try knn"
   ]
  },
  {
   "cell_type": "code",
   "execution_count": 8,
   "metadata": {},
   "outputs": [
    {
     "data": {
      "image/png": "[encoded data removed]",
      "text/plain": [
       "<Figure size 504x504 with 2 Axes>"
      ]
     },
     "metadata": {
      "needs_background": "light"
     },
     "output_type": "display_data"
    }
   ],
   "source": [
    "fig, ax = plt.subplots(figsize=(7, 7))\n",
    "plot_confusion_matrix(logreg, X_test, y_test, ax=ax);"
   ]
  },
  {
   "cell_type": "markdown",
   "metadata": {},
   "source": [
    "# KNN\n"
   ]
  },
  {
   "cell_type": "code",
   "execution_count": 9,
   "metadata": {},
   "outputs": [],
   "source": [
    "#start by scaling\n",
    "scaler = StandardScaler()\n",
    "\n",
    "X_train_scaled = scaler.fit_transform(X_train.values)\n",
    "X_test_scaled = scaler.fit_transform(X_test.values)"
   ]
  },
  {
   "cell_type": "code",
   "execution_count": 10,
   "metadata": {},
   "outputs": [
    {
     "data": {
      "text/plain": [
       "KNeighborsClassifier(n_neighbors=7)"
      ]
     },
     "execution_count": 10,
     "metadata": {},
     "output_type": "execute_result"
    }
   ],
   "source": [
    "#fit knn model\n",
    "\n",
    "knn = KNeighborsClassifier(n_neighbors = 7)\n",
    "knn.fit(X_train_scaled, y_train)"
   ]
  },
  {
   "cell_type": "code",
   "execution_count": 11,
   "metadata": {},
   "outputs": [
    {
     "name": "stdout",
     "output_type": "stream",
     "text": [
      "training score: 0.8248626373626373\n"
     ]
    }
   ],
   "source": [
    "print('training score:', knn.score(X_train_scaled, y_train))"
   ]
  },
  {
   "cell_type": "code",
   "execution_count": 12,
   "metadata": {},
   "outputs": [
    {
     "name": "stdout",
     "output_type": "stream",
     "text": [
      "test score: 0.7822802197802198\n"
     ]
    }
   ],
   "source": [
    "print('test score:', knn.score(X_test_scaled, y_test))"
   ]
  },
  {
   "cell_type": "code",
   "execution_count": 13,
   "metadata": {},
   "outputs": [
    {
     "name": "stdout",
     "output_type": "stream",
     "text": [
      "              precision    recall  f1-score   support\n",
      "\n",
      "           0       0.87      0.70      0.78       596\n",
      "           1       0.29      0.02      0.04        92\n",
      "           2       0.74      0.93      0.83       768\n",
      "\n",
      "    accuracy                           0.78      1456\n",
      "   macro avg       0.63      0.55      0.55      1456\n",
      "weighted avg       0.76      0.78      0.76      1456\n",
      "\n"
     ]
    }
   ],
   "source": [
    "y_true_knn, y_pred_knn = y_test, knn.predict(X_test_scaled)\n",
    "print(classification_report(y_true_knn, y_pred_knn))"
   ]
  },
  {
   "cell_type": "code",
   "execution_count": 14,
   "metadata": {},
   "outputs": [
    {
     "data": {
      "image/png": "[encoded data removed]",
      "text/plain": [
       "<Figure size 504x504 with 2 Axes>"
      ]
     },
     "metadata": {
      "needs_background": "light"
     },
     "output_type": "display_data"
    }
   ],
   "source": [
    "fig, ax = plt.subplots(figsize=(7, 7))\n",
    "plot_confusion_matrix(knn, X_test, y_test, ax=ax);"
   ]
  },
  {
   "cell_type": "markdown",
   "metadata": {},
   "source": [
    "### Check for imbalance"
   ]
  },
  {
   "cell_type": "code",
   "execution_count": 16,
   "metadata": {},
   "outputs": [
    {
     "data": {
      "text/plain": [
       "2    3937\n",
       "0    2902\n",
       "1     441\n",
       "Name: Current_method_dup, dtype: int64"
      ]
     },
     "execution_count": 16,
     "metadata": {},
     "output_type": "execute_result"
    }
   ],
   "source": [
    "non_preg2['Current_method_dup'].value_counts()"
   ]
  },
  {
   "cell_type": "code",
   "execution_count": 18,
   "metadata": {},
   "outputs": [],
   "source": [
    "from imblearn.over_sampling import RandomOverSampler\n",
    "ros = RandomOverSampler(random_state = 42)\n",
    "X_resampled, y_resampled = ros.fit_sample(X_train, y_train)"
   ]
  },
  {
   "cell_type": "code",
   "execution_count": 19,
   "metadata": {},
   "outputs": [],
   "source": [
    "#scale\n",
    "scaler = StandardScaler()\n",
    "\n",
    "X_train_scaled = scaler.fit_transform(X_resampled.values)"
   ]
  },
  {
   "cell_type": "code",
   "execution_count": 20,
   "metadata": {},
   "outputs": [],
   "source": [
    "X_test_scaled = scaler.fit_transform(X_test.values)"
   ]
  },
  {
   "cell_type": "code",
   "execution_count": 21,
   "metadata": {},
   "outputs": [
    {
     "data": {
      "text/plain": [
       "KNeighborsClassifier(n_neighbors=7)"
      ]
     },
     "execution_count": 21,
     "metadata": {},
     "output_type": "execute_result"
    }
   ],
   "source": [
    "#fit knn model\n",
    "\n",
    "knn_bal = KNeighborsClassifier(n_neighbors = 7)\n",
    "knn_bal.fit(X_train_scaled, y_resampled)"
   ]
  },
  {
   "cell_type": "code",
   "execution_count": 22,
   "metadata": {},
   "outputs": [
    {
     "name": "stdout",
     "output_type": "stream",
     "text": [
      "training score: 0.8469548753550016\n"
     ]
    }
   ],
   "source": [
    "print('training score:', knn_bal.score(X_train_scaled, y_resampled))"
   ]
  },
  {
   "cell_type": "code",
   "execution_count": 23,
   "metadata": {},
   "outputs": [
    {
     "name": "stdout",
     "output_type": "stream",
     "text": [
      "test score: 0.6524725274725275\n"
     ]
    }
   ],
   "source": [
    "print('test score:', knn_bal.score(X_test_scaled, y_test))"
   ]
  },
  {
   "cell_type": "code",
   "execution_count": 24,
   "metadata": {},
   "outputs": [
    {
     "name": "stdout",
     "output_type": "stream",
     "text": [
      "              precision    recall  f1-score   support\n",
      "\n",
      "           0       0.82      0.61      0.70       596\n",
      "           1       0.12      0.40      0.18        92\n",
      "           2       0.78      0.71      0.75       768\n",
      "\n",
      "    accuracy                           0.65      1456\n",
      "   macro avg       0.57      0.58      0.54      1456\n",
      "weighted avg       0.76      0.65      0.69      1456\n",
      "\n"
     ]
    }
   ],
   "source": [
    "y_true_knn_bal, y_pred_knn_bal = y_test, knn_bal.predict(X_test_scaled)\n",
    "print(classification_report(y_true_knn_bal, y_pred_knn_bal))"
   ]
  },
  {
   "cell_type": "markdown",
   "metadata": {},
   "source": [
    "# Try randomforestclassifier"
   ]
  },
  {
   "cell_type": "code",
   "execution_count": 25,
   "metadata": {},
   "outputs": [
    {
     "name": "stdout",
     "output_type": "stream",
     "text": [
      "              precision    recall  f1-score   support\n",
      "\n",
      "           0       0.91      0.71      0.80       596\n",
      "           1       0.82      0.34      0.48        92\n",
      "           2       0.78      0.97      0.86       768\n",
      "\n",
      "    accuracy                           0.82      1456\n",
      "   macro avg       0.84      0.67      0.71      1456\n",
      "weighted avg       0.84      0.82      0.81      1456\n",
      "\n"
     ]
    }
   ],
   "source": [
    "from sklearn.ensemble import RandomForestClassifier\n",
    "model = RandomForestClassifier(n_estimators=1000)\n",
    "model.fit(X_train , y_train)\n",
    "y_pred = model.predict(X_test)\n",
    "print(classification_report(y_test, y_pred))"
   ]
  },
  {
   "cell_type": "code",
   "execution_count": 26,
   "metadata": {},
   "outputs": [
    {
     "data": {
      "image/png": "[encoded data removed]",
      "text/plain": [
       "<Figure size 504x504 with 2 Axes>"
      ]
     },
     "metadata": {
      "needs_background": "light"
     },
     "output_type": "display_data"
    }
   ],
   "source": [
    "fig, ax = plt.subplots(figsize=(7, 7))\n",
    "plot_confusion_matrix(model, X_test, y_test, ax=ax);"
   ]
  },
  {
   "cell_type": "code",
   "execution_count": 27,
   "metadata": {},
   "outputs": [],
   "source": [
    "importance = model.feature_importances_"
   ]
  },
  {
   "cell_type": "code",
   "execution_count": 28,
   "metadata": {},
   "outputs": [
    {
     "name": "stdout",
     "output_type": "stream",
     "text": [
      "Feature: 0, Score: 0.08952\n",
      "Feature: 1, Score: 0.06008\n",
      "Feature: 2, Score: 0.05884\n",
      "Feature: 3, Score: 0.05128\n",
      "Feature: 4, Score: 0.05058\n",
      "Feature: 5, Score: 0.05063\n",
      "Feature: 6, Score: 0.01080\n",
      "Feature: 7, Score: 0.01405\n",
      "Feature: 8, Score: 0.01426\n",
      "Feature: 9, Score: 0.00751\n",
      "Feature: 10, Score: 0.02371\n",
      "Feature: 11, Score: 0.03035\n",
      "Feature: 12, Score: 0.01194\n",
      "Feature: 13, Score: 0.01143\n",
      "Feature: 14, Score: 0.01471\n",
      "Feature: 15, Score: 0.01620\n",
      "Feature: 16, Score: 0.03045\n",
      "Feature: 17, Score: 0.01579\n",
      "Feature: 18, Score: 0.01133\n",
      "Feature: 19, Score: 0.02335\n",
      "Feature: 20, Score: 0.00925\n",
      "Feature: 21, Score: 0.00371\n",
      "Feature: 22, Score: 0.39020\n"
     ]
    },
    {
     "data": {
      "image/png": "[encoded data removed]",
      "text/plain": [
       "<Figure size 720x360 with 1 Axes>"
      ]
     },
     "metadata": {
      "needs_background": "light"
     },
     "output_type": "display_data"
    }
   ],
   "source": [
    "for i,v in enumerate(importance):\n",
    "    print('Feature: %0d, Score: %.5f' % (i,v))\n",
    "# plot feature importance\n",
    "plt.figure(figsize = (10,5))\n",
    "plt.bar([x for x in range(len(importance))], importance)\n",
    "plt.xticks([i for i in range(23)])\n",
    "plt.show()"
   ]
  },
  {
   "cell_type": "code",
   "execution_count": 29,
   "metadata": {},
   "outputs": [
    {
     "data": {
      "text/html": [
       "<div>\n",
       "<style scoped>\n",
       "    .dataframe tbody tr th:only-of-type {\n",
       "        vertical-align: middle;\n",
       "    }\n",
       "\n",
       "    .dataframe tbody tr th {\n",
       "        vertical-align: top;\n",
       "    }\n",
       "\n",
       "    .dataframe thead th {\n",
       "        text-align: right;\n",
       "    }\n",
       "</style>\n",
       "<table border=\"1\" class=\"dataframe\">\n",
       "  <thead>\n",
       "    <tr style=\"text-align: right;\">\n",
       "      <th></th>\n",
       "      <th>Age</th>\n",
       "      <th>Num_children_born</th>\n",
       "      <th>Num_living_children</th>\n",
       "      <th>age_at_first_marriage</th>\n",
       "      <th>age_at_first_intercourse</th>\n",
       "      <th>freq_of_intercourse</th>\n",
       "      <th>Religion_dup</th>\n",
       "      <th>children_in_residence</th>\n",
       "      <th>Knowledge_of_ovulatory_cycle_dup</th>\n",
       "      <th>Knows_method_source_dup</th>\n",
       "      <th>...</th>\n",
       "      <th>Woman_currently_working_dup</th>\n",
       "      <th>heard_FP_message_in_last_month_dup</th>\n",
       "      <th>Has_transportation</th>\n",
       "      <th>media_exposure_level</th>\n",
       "      <th>Education_level_dup</th>\n",
       "      <th>Literacy_dup</th>\n",
       "      <th>Husbands_edu_level_dup</th>\n",
       "      <th>Husbands_literacy_dup</th>\n",
       "      <th>Knowledge_of_methods_dup</th>\n",
       "      <th>Used_any_method_dup</th>\n",
       "    </tr>\n",
       "  </thead>\n",
       "  <tbody>\n",
       "    <tr>\n",
       "      <th>2887</th>\n",
       "      <td>25</td>\n",
       "      <td>2</td>\n",
       "      <td>2</td>\n",
       "      <td>18</td>\n",
       "      <td>18.0</td>\n",
       "      <td>4.0</td>\n",
       "      <td>1</td>\n",
       "      <td>1</td>\n",
       "      <td>1</td>\n",
       "      <td>1</td>\n",
       "      <td>...</td>\n",
       "      <td>0</td>\n",
       "      <td>1</td>\n",
       "      <td>0</td>\n",
       "      <td>0</td>\n",
       "      <td>1</td>\n",
       "      <td>2</td>\n",
       "      <td>1</td>\n",
       "      <td>2</td>\n",
       "      <td>1</td>\n",
       "      <td>2</td>\n",
       "    </tr>\n",
       "    <tr>\n",
       "      <th>4412</th>\n",
       "      <td>37</td>\n",
       "      <td>4</td>\n",
       "      <td>4</td>\n",
       "      <td>20</td>\n",
       "      <td>20.0</td>\n",
       "      <td>4.0</td>\n",
       "      <td>1</td>\n",
       "      <td>0</td>\n",
       "      <td>1</td>\n",
       "      <td>1</td>\n",
       "      <td>...</td>\n",
       "      <td>1</td>\n",
       "      <td>0</td>\n",
       "      <td>1</td>\n",
       "      <td>3</td>\n",
       "      <td>2</td>\n",
       "      <td>2</td>\n",
       "      <td>2</td>\n",
       "      <td>2</td>\n",
       "      <td>1</td>\n",
       "      <td>2</td>\n",
       "    </tr>\n",
       "    <tr>\n",
       "      <th>4299</th>\n",
       "      <td>31</td>\n",
       "      <td>6</td>\n",
       "      <td>6</td>\n",
       "      <td>18</td>\n",
       "      <td>18.0</td>\n",
       "      <td>3.0</td>\n",
       "      <td>1</td>\n",
       "      <td>1</td>\n",
       "      <td>0</td>\n",
       "      <td>1</td>\n",
       "      <td>...</td>\n",
       "      <td>0</td>\n",
       "      <td>1</td>\n",
       "      <td>1</td>\n",
       "      <td>0</td>\n",
       "      <td>1</td>\n",
       "      <td>2</td>\n",
       "      <td>1</td>\n",
       "      <td>2</td>\n",
       "      <td>1</td>\n",
       "      <td>2</td>\n",
       "    </tr>\n",
       "    <tr>\n",
       "      <th>5829</th>\n",
       "      <td>38</td>\n",
       "      <td>2</td>\n",
       "      <td>2</td>\n",
       "      <td>24</td>\n",
       "      <td>24.0</td>\n",
       "      <td>6.0</td>\n",
       "      <td>0</td>\n",
       "      <td>0</td>\n",
       "      <td>1</td>\n",
       "      <td>1</td>\n",
       "      <td>...</td>\n",
       "      <td>1</td>\n",
       "      <td>1</td>\n",
       "      <td>1</td>\n",
       "      <td>3</td>\n",
       "      <td>3</td>\n",
       "      <td>2</td>\n",
       "      <td>3</td>\n",
       "      <td>2</td>\n",
       "      <td>1</td>\n",
       "      <td>1</td>\n",
       "    </tr>\n",
       "    <tr>\n",
       "      <th>5149</th>\n",
       "      <td>28</td>\n",
       "      <td>3</td>\n",
       "      <td>3</td>\n",
       "      <td>17</td>\n",
       "      <td>17.0</td>\n",
       "      <td>2.0</td>\n",
       "      <td>1</td>\n",
       "      <td>1</td>\n",
       "      <td>1</td>\n",
       "      <td>1</td>\n",
       "      <td>...</td>\n",
       "      <td>0</td>\n",
       "      <td>1</td>\n",
       "      <td>1</td>\n",
       "      <td>0</td>\n",
       "      <td>1</td>\n",
       "      <td>2</td>\n",
       "      <td>1</td>\n",
       "      <td>2</td>\n",
       "      <td>1</td>\n",
       "      <td>2</td>\n",
       "    </tr>\n",
       "  </tbody>\n",
       "</table>\n",
       "<p>5 rows × 23 columns</p>\n",
       "</div>"
      ],
      "text/plain": [
       "      Age  Num_children_born  Num_living_children  age_at_first_marriage  \\\n",
       "2887   25                  2                    2                     18   \n",
       "4412   37                  4                    4                     20   \n",
       "4299   31                  6                    6                     18   \n",
       "5829   38                  2                    2                     24   \n",
       "5149   28                  3                    3                     17   \n",
       "\n",
       "     age_at_first_intercourse freq_of_intercourse Religion_dup  \\\n",
       "2887                     18.0                 4.0            1   \n",
       "4412                     20.0                 4.0            1   \n",
       "4299                     18.0                 3.0            1   \n",
       "5829                     24.0                 6.0            0   \n",
       "5149                     17.0                 2.0            1   \n",
       "\n",
       "     children_in_residence Knowledge_of_ovulatory_cycle_dup  \\\n",
       "2887                     1                                1   \n",
       "4412                     0                                1   \n",
       "4299                     1                                0   \n",
       "5829                     0                                1   \n",
       "5149                     1                                1   \n",
       "\n",
       "     Knows_method_source_dup  ... Woman_currently_working_dup  \\\n",
       "2887                       1  ...                           0   \n",
       "4412                       1  ...                           1   \n",
       "4299                       1  ...                           0   \n",
       "5829                       1  ...                           1   \n",
       "5149                       1  ...                           0   \n",
       "\n",
       "     heard_FP_message_in_last_month_dup Has_transportation  \\\n",
       "2887                                  1                  0   \n",
       "4412                                  0                  1   \n",
       "4299                                  1                  1   \n",
       "5829                                  1                  1   \n",
       "5149                                  1                  1   \n",
       "\n",
       "     media_exposure_level Education_level_dup  Literacy_dup  \\\n",
       "2887                    0                   1             2   \n",
       "4412                    3                   2             2   \n",
       "4299                    0                   1             2   \n",
       "5829                    3                   3             2   \n",
       "5149                    0                   1             2   \n",
       "\n",
       "      Husbands_edu_level_dup Husbands_literacy_dup Knowledge_of_methods_dup  \\\n",
       "2887                       1                     2                        1   \n",
       "4412                       2                     2                        1   \n",
       "4299                       1                     2                        1   \n",
       "5829                       3                     2                        1   \n",
       "5149                       1                     2                        1   \n",
       "\n",
       "     Used_any_method_dup  \n",
       "2887                   2  \n",
       "4412                   2  \n",
       "4299                   2  \n",
       "5829                   1  \n",
       "5149                   2  \n",
       "\n",
       "[5 rows x 23 columns]"
      ]
     },
     "execution_count": 29,
     "metadata": {},
     "output_type": "execute_result"
    }
   ],
   "source": [
    "#looks like if they've ever used any method is the most impt feature\n",
    "#is that data leakage?\n",
    "#same with currently abstaining\n",
    "X_train.head()"
   ]
  },
  {
   "cell_type": "code",
   "execution_count": 30,
   "metadata": {},
   "outputs": [
    {
     "data": {
      "text/plain": [
       "2887    2\n",
       "4412    2\n",
       "4299    2\n",
       "5829    0\n",
       "5149    2\n",
       "Name: Current_method_dup, dtype: int64"
      ]
     },
     "execution_count": 30,
     "metadata": {},
     "output_type": "execute_result"
    }
   ],
   "source": [
    "y_train.head()"
   ]
  },
  {
   "cell_type": "code",
   "execution_count": 31,
   "metadata": {},
   "outputs": [
    {
     "data": {
      "text/plain": [
       "2    5059\n",
       "0    1874\n",
       "1     347\n",
       "Name: Used_any_method_dup, dtype: int64"
      ]
     },
     "execution_count": 31,
     "metadata": {},
     "output_type": "execute_result"
    }
   ],
   "source": [
    "non_preg2.Used_any_method_dup.value_counts()"
   ]
  },
  {
   "cell_type": "code",
   "execution_count": 32,
   "metadata": {},
   "outputs": [
    {
     "data": {
      "text/plain": [
       "2    3937\n",
       "0    2902\n",
       "1     441\n",
       "Name: Current_method_dup, dtype: int64"
      ]
     },
     "execution_count": 32,
     "metadata": {},
     "output_type": "execute_result"
    }
   ],
   "source": [
    "non_preg2.Current_method_dup.value_counts()"
   ]
  },
  {
   "cell_type": "code",
   "execution_count": 33,
   "metadata": {},
   "outputs": [
    {
     "data": {
      "text/plain": [
       "Used_any_method_dup  Current_method_dup\n",
       "0                    0                     1.000000\n",
       "1                    1                     0.706052\n",
       "                     0                     0.293948\n",
       "2                    2                     0.778217\n",
       "                     0                     0.183040\n",
       "                     1                     0.038743\n",
       "Name: Current_method_dup, dtype: float64"
      ]
     },
     "execution_count": 33,
     "metadata": {},
     "output_type": "execute_result"
    }
   ],
   "source": [
    "non_preg2.groupby('Used_any_method_dup')['Current_method_dup'].value_counts(normalize = True)"
   ]
  },
  {
   "cell_type": "markdown",
   "metadata": {},
   "source": [
    "# Try gradientbootingclassifier"
   ]
  },
  {
   "cell_type": "code",
   "execution_count": 34,
   "metadata": {},
   "outputs": [
    {
     "name": "stdout",
     "output_type": "stream",
     "text": [
      "              precision    recall  f1-score   support\n",
      "\n",
      "           0       0.88      0.72      0.79       596\n",
      "           1       0.67      0.38      0.49        92\n",
      "           2       0.78      0.94      0.85       768\n",
      "\n",
      "    accuracy                           0.81      1456\n",
      "   macro avg       0.78      0.68      0.71      1456\n",
      "weighted avg       0.82      0.81      0.80      1456\n",
      "\n"
     ]
    }
   ],
   "source": [
    "from sklearn.ensemble import GradientBoostingClassifier\n",
    "model_GB = GradientBoostingClassifier(n_estimators=1000)\n",
    "model_GB.fit(X_train, y_train)\n",
    "y_pred = model_GB.predict(X_test)\n",
    "print(classification_report(y_test, y_pred))"
   ]
  },
  {
   "cell_type": "code",
   "execution_count": 35,
   "metadata": {},
   "outputs": [
    {
     "data": {
      "image/png": "[encoded data removed]",
      "text/plain": [
       "<Figure size 504x504 with 2 Axes>"
      ]
     },
     "metadata": {
      "needs_background": "light"
     },
     "output_type": "display_data"
    }
   ],
   "source": [
    "fig, ax = plt.subplots(figsize=(7, 7))\n",
    "plot_confusion_matrix(model_GB, X_test, y_test, ax=ax);"
   ]
  },
  {
   "cell_type": "code",
   "execution_count": 36,
   "metadata": {},
   "outputs": [],
   "source": [
    "importance_GB = model_GB.feature_importances_"
   ]
  },
  {
   "cell_type": "code",
   "execution_count": 37,
   "metadata": {},
   "outputs": [
    {
     "name": "stdout",
     "output_type": "stream",
     "text": [
      "Feature: 0, Score: 0.05281\n",
      "Feature: 1, Score: 0.02141\n",
      "Feature: 2, Score: 0.01433\n",
      "Feature: 3, Score: 0.01207\n",
      "Feature: 4, Score: 0.01412\n",
      "Feature: 5, Score: 0.01749\n",
      "Feature: 6, Score: 0.00300\n",
      "Feature: 7, Score: 0.00558\n",
      "Feature: 8, Score: 0.00271\n",
      "Feature: 9, Score: 0.00070\n",
      "Feature: 10, Score: 0.02993\n",
      "Feature: 11, Score: 0.02867\n",
      "Feature: 12, Score: 0.00262\n",
      "Feature: 13, Score: 0.00263\n",
      "Feature: 14, Score: 0.00334\n",
      "Feature: 15, Score: 0.00287\n",
      "Feature: 16, Score: 0.00860\n",
      "Feature: 17, Score: 0.00506\n",
      "Feature: 18, Score: 0.00265\n",
      "Feature: 19, Score: 0.00742\n",
      "Feature: 20, Score: 0.00219\n",
      "Feature: 21, Score: 0.00067\n",
      "Feature: 22, Score: 0.75910\n"
     ]
    },
    {
     "data": {
      "image/png": "[encoded data removed]",
      "text/plain": [
       "<Figure size 720x360 with 1 Axes>"
      ]
     },
     "metadata": {
      "needs_background": "light"
     },
     "output_type": "display_data"
    }
   ],
   "source": [
    "for i,v in enumerate(importance_GB):\n",
    "    print('Feature: %0d, Score: %.5f' % (i,v))\n",
    "# plot feature importance\n",
    "plt.figure(figsize = (10,5))\n",
    "plt.bar([x for x in range(len(importance_GB))], importance_GB)\n",
    "plt.xticks([i for i in range(23)])\n",
    "plt.show()"
   ]
  },
  {
   "cell_type": "markdown",
   "metadata": {},
   "source": [
    "## Try without the \"used any method column\" it seems like data leakage"
   ]
  },
  {
   "cell_type": "code",
   "execution_count": 38,
   "metadata": {},
   "outputs": [
    {
     "data": {
      "text/html": [
       "<div>\n",
       "<style scoped>\n",
       "    .dataframe tbody tr th:only-of-type {\n",
       "        vertical-align: middle;\n",
       "    }\n",
       "\n",
       "    .dataframe tbody tr th {\n",
       "        vertical-align: top;\n",
       "    }\n",
       "\n",
       "    .dataframe thead th {\n",
       "        text-align: right;\n",
       "    }\n",
       "</style>\n",
       "<table border=\"1\" class=\"dataframe\">\n",
       "  <thead>\n",
       "    <tr style=\"text-align: right;\">\n",
       "      <th></th>\n",
       "      <th>caseid</th>\n",
       "      <th>Age</th>\n",
       "      <th>Num_children_born</th>\n",
       "      <th>Num_living_children</th>\n",
       "      <th>age_at_first_marriage</th>\n",
       "      <th>age_at_first_intercourse</th>\n",
       "      <th>freq_of_intercourse</th>\n",
       "      <th>Religion_dup</th>\n",
       "      <th>children_in_residence</th>\n",
       "      <th>Knowledge_of_ovulatory_cycle_dup</th>\n",
       "      <th>...</th>\n",
       "      <th>Woman_worked_after_marriage_dup</th>\n",
       "      <th>Woman_currently_working_dup</th>\n",
       "      <th>heard_FP_message_in_last_month_dup</th>\n",
       "      <th>Has_transportation</th>\n",
       "      <th>media_exposure_level</th>\n",
       "      <th>Education_level_dup</th>\n",
       "      <th>Literacy_dup</th>\n",
       "      <th>Husbands_edu_level_dup</th>\n",
       "      <th>Husbands_literacy_dup</th>\n",
       "      <th>Knowledge_of_methods_dup</th>\n",
       "    </tr>\n",
       "  </thead>\n",
       "  <tbody>\n",
       "    <tr>\n",
       "      <th>0</th>\n",
       "      <td>11  1  1  2</td>\n",
       "      <td>41</td>\n",
       "      <td>6</td>\n",
       "      <td>5</td>\n",
       "      <td>15</td>\n",
       "      <td>15.0</td>\n",
       "      <td>4.0</td>\n",
       "      <td>1</td>\n",
       "      <td>0</td>\n",
       "      <td>1</td>\n",
       "      <td>...</td>\n",
       "      <td>1</td>\n",
       "      <td>1</td>\n",
       "      <td>1</td>\n",
       "      <td>1</td>\n",
       "      <td>1</td>\n",
       "      <td>2</td>\n",
       "      <td>2</td>\n",
       "      <td>1</td>\n",
       "      <td>2</td>\n",
       "      <td>1</td>\n",
       "    </tr>\n",
       "    <tr>\n",
       "      <th>1</th>\n",
       "      <td>11  1  4  4</td>\n",
       "      <td>27</td>\n",
       "      <td>5</td>\n",
       "      <td>5</td>\n",
       "      <td>18</td>\n",
       "      <td>18.0</td>\n",
       "      <td>4.0</td>\n",
       "      <td>1</td>\n",
       "      <td>1</td>\n",
       "      <td>1</td>\n",
       "      <td>...</td>\n",
       "      <td>0</td>\n",
       "      <td>0</td>\n",
       "      <td>1</td>\n",
       "      <td>1</td>\n",
       "      <td>3</td>\n",
       "      <td>2</td>\n",
       "      <td>2</td>\n",
       "      <td>2</td>\n",
       "      <td>2</td>\n",
       "      <td>1</td>\n",
       "    </tr>\n",
       "    <tr>\n",
       "      <th>2</th>\n",
       "      <td>11  1  8  2</td>\n",
       "      <td>41</td>\n",
       "      <td>9</td>\n",
       "      <td>9</td>\n",
       "      <td>18</td>\n",
       "      <td>18.0</td>\n",
       "      <td>3.0</td>\n",
       "      <td>1</td>\n",
       "      <td>1</td>\n",
       "      <td>1</td>\n",
       "      <td>...</td>\n",
       "      <td>1</td>\n",
       "      <td>1</td>\n",
       "      <td>1</td>\n",
       "      <td>1</td>\n",
       "      <td>1</td>\n",
       "      <td>1</td>\n",
       "      <td>2</td>\n",
       "      <td>2</td>\n",
       "      <td>2</td>\n",
       "      <td>1</td>\n",
       "    </tr>\n",
       "  </tbody>\n",
       "</table>\n",
       "<p>3 rows × 23 columns</p>\n",
       "</div>"
      ],
      "text/plain": [
       "            caseid  Age  Num_children_born  Num_living_children  \\\n",
       "0      11  1  1  2   41                  6                    5   \n",
       "1      11  1  4  4   27                  5                    5   \n",
       "2      11  1  8  2   41                  9                    9   \n",
       "\n",
       "   age_at_first_marriage age_at_first_intercourse freq_of_intercourse  \\\n",
       "0                     15                     15.0                 4.0   \n",
       "1                     18                     18.0                 4.0   \n",
       "2                     18                     18.0                 3.0   \n",
       "\n",
       "  Religion_dup children_in_residence Knowledge_of_ovulatory_cycle_dup  ...  \\\n",
       "0            1                     0                                1  ...   \n",
       "1            1                     1                                1  ...   \n",
       "2            1                     1                                1  ...   \n",
       "\n",
       "  Woman_worked_after_marriage_dup Woman_currently_working_dup  \\\n",
       "0                               1                           1   \n",
       "1                               0                           0   \n",
       "2                               1                           1   \n",
       "\n",
       "  heard_FP_message_in_last_month_dup Has_transportation media_exposure_level  \\\n",
       "0                                  1                  1                    1   \n",
       "1                                  1                  1                    3   \n",
       "2                                  1                  1                    1   \n",
       "\n",
       "  Education_level_dup  Literacy_dup  Husbands_edu_level_dup  \\\n",
       "0                   2             2                       1   \n",
       "1                   2             2                       2   \n",
       "2                   1             2                       2   \n",
       "\n",
       "  Husbands_literacy_dup Knowledge_of_methods_dup  \n",
       "0                     2                        1  \n",
       "1                     2                        1  \n",
       "2                     2                        1  \n",
       "\n",
       "[3 rows x 23 columns]"
      ]
     },
     "execution_count": 38,
     "metadata": {},
     "output_type": "execute_result"
    }
   ],
   "source": [
    "non_preg3 = non_preg2.iloc[:, :-2]\n",
    "non_preg3.head(3)"
   ]
  },
  {
   "cell_type": "code",
   "execution_count": 39,
   "metadata": {},
   "outputs": [
    {
     "data": {
      "text/html": [
       "<div>\n",
       "<style scoped>\n",
       "    .dataframe tbody tr th:only-of-type {\n",
       "        vertical-align: middle;\n",
       "    }\n",
       "\n",
       "    .dataframe tbody tr th {\n",
       "        vertical-align: top;\n",
       "    }\n",
       "\n",
       "    .dataframe thead th {\n",
       "        text-align: right;\n",
       "    }\n",
       "</style>\n",
       "<table border=\"1\" class=\"dataframe\">\n",
       "  <thead>\n",
       "    <tr style=\"text-align: right;\">\n",
       "      <th></th>\n",
       "      <th>caseid</th>\n",
       "      <th>Age</th>\n",
       "      <th>Num_children_born</th>\n",
       "      <th>Num_living_children</th>\n",
       "      <th>age_at_first_marriage</th>\n",
       "      <th>age_at_first_intercourse</th>\n",
       "      <th>freq_of_intercourse</th>\n",
       "      <th>Religion_dup</th>\n",
       "      <th>children_in_residence</th>\n",
       "      <th>Knowledge_of_ovulatory_cycle_dup</th>\n",
       "      <th>...</th>\n",
       "      <th>Woman_currently_working_dup</th>\n",
       "      <th>heard_FP_message_in_last_month_dup</th>\n",
       "      <th>Has_transportation</th>\n",
       "      <th>media_exposure_level</th>\n",
       "      <th>Education_level_dup</th>\n",
       "      <th>Literacy_dup</th>\n",
       "      <th>Husbands_edu_level_dup</th>\n",
       "      <th>Husbands_literacy_dup</th>\n",
       "      <th>Knowledge_of_methods_dup</th>\n",
       "      <th>Current_method</th>\n",
       "    </tr>\n",
       "  </thead>\n",
       "  <tbody>\n",
       "    <tr>\n",
       "      <th>0</th>\n",
       "      <td>11  1  1  2</td>\n",
       "      <td>41</td>\n",
       "      <td>6</td>\n",
       "      <td>5</td>\n",
       "      <td>15</td>\n",
       "      <td>15.0</td>\n",
       "      <td>4.0</td>\n",
       "      <td>1</td>\n",
       "      <td>0</td>\n",
       "      <td>1</td>\n",
       "      <td>...</td>\n",
       "      <td>1</td>\n",
       "      <td>1</td>\n",
       "      <td>1</td>\n",
       "      <td>1</td>\n",
       "      <td>2</td>\n",
       "      <td>2</td>\n",
       "      <td>1</td>\n",
       "      <td>2</td>\n",
       "      <td>1</td>\n",
       "      <td>0</td>\n",
       "    </tr>\n",
       "    <tr>\n",
       "      <th>1</th>\n",
       "      <td>11  1  4  4</td>\n",
       "      <td>27</td>\n",
       "      <td>5</td>\n",
       "      <td>5</td>\n",
       "      <td>18</td>\n",
       "      <td>18.0</td>\n",
       "      <td>4.0</td>\n",
       "      <td>1</td>\n",
       "      <td>1</td>\n",
       "      <td>1</td>\n",
       "      <td>...</td>\n",
       "      <td>0</td>\n",
       "      <td>1</td>\n",
       "      <td>1</td>\n",
       "      <td>3</td>\n",
       "      <td>2</td>\n",
       "      <td>2</td>\n",
       "      <td>2</td>\n",
       "      <td>2</td>\n",
       "      <td>1</td>\n",
       "      <td>0</td>\n",
       "    </tr>\n",
       "    <tr>\n",
       "      <th>2</th>\n",
       "      <td>11  1  8  2</td>\n",
       "      <td>41</td>\n",
       "      <td>9</td>\n",
       "      <td>9</td>\n",
       "      <td>18</td>\n",
       "      <td>18.0</td>\n",
       "      <td>3.0</td>\n",
       "      <td>1</td>\n",
       "      <td>1</td>\n",
       "      <td>1</td>\n",
       "      <td>...</td>\n",
       "      <td>1</td>\n",
       "      <td>1</td>\n",
       "      <td>1</td>\n",
       "      <td>1</td>\n",
       "      <td>1</td>\n",
       "      <td>2</td>\n",
       "      <td>2</td>\n",
       "      <td>2</td>\n",
       "      <td>1</td>\n",
       "      <td>0</td>\n",
       "    </tr>\n",
       "  </tbody>\n",
       "</table>\n",
       "<p>3 rows × 24 columns</p>\n",
       "</div>"
      ],
      "text/plain": [
       "            caseid  Age  Num_children_born  Num_living_children  \\\n",
       "0      11  1  1  2   41                  6                    5   \n",
       "1      11  1  4  4   27                  5                    5   \n",
       "2      11  1  8  2   41                  9                    9   \n",
       "\n",
       "   age_at_first_marriage age_at_first_intercourse freq_of_intercourse  \\\n",
       "0                     15                     15.0                 4.0   \n",
       "1                     18                     18.0                 4.0   \n",
       "2                     18                     18.0                 3.0   \n",
       "\n",
       "  Religion_dup children_in_residence Knowledge_of_ovulatory_cycle_dup  ...  \\\n",
       "0            1                     0                                1  ...   \n",
       "1            1                     1                                1  ...   \n",
       "2            1                     1                                1  ...   \n",
       "\n",
       "  Woman_currently_working_dup heard_FP_message_in_last_month_dup  \\\n",
       "0                           1                                  1   \n",
       "1                           0                                  1   \n",
       "2                           1                                  1   \n",
       "\n",
       "  Has_transportation media_exposure_level Education_level_dup Literacy_dup  \\\n",
       "0                  1                    1                   2            2   \n",
       "1                  1                    3                   2            2   \n",
       "2                  1                    1                   1            2   \n",
       "\n",
       "   Husbands_edu_level_dup  Husbands_literacy_dup Knowledge_of_methods_dup  \\\n",
       "0                       1                      2                        1   \n",
       "1                       2                      2                        1   \n",
       "2                       2                      2                        1   \n",
       "\n",
       "  Current_method  \n",
       "0              0  \n",
       "1              0  \n",
       "2              0  \n",
       "\n",
       "[3 rows x 24 columns]"
      ]
     },
     "execution_count": 39,
     "metadata": {},
     "output_type": "execute_result"
    }
   ],
   "source": [
    "non_preg3['Current_method'] = non_preg2['Current_method_dup']\n",
    "non_preg3.head(3)"
   ]
  },
  {
   "cell_type": "code",
   "execution_count": 40,
   "metadata": {},
   "outputs": [],
   "source": [
    "#define the features and target\n",
    "features3 = ['Age', 'Num_children_born',\n",
    "              'Num_living_children', 'age_at_first_marriage',\n",
    "              'age_at_first_intercourse', \n",
    "              'freq_of_intercourse',\n",
    "              'Religion_dup', 'children_in_residence',\n",
    "              'Knowledge_of_ovulatory_cycle_dup', \n",
    "              'Knows_method_source_dup', \n",
    "              'currently_abstaining_dup', \n",
    "              'desire_for_more_kids_dup', \n",
    "              'Woman_worked_after_marriage_dup', \n",
    "              'Woman_currently_working_dup', \n",
    "              'heard_FP_message_in_last_month_dup', \n",
    "              'Has_transportation', \n",
    "              'media_exposure_level', 'Education_level_dup', \n",
    "              'Literacy_dup', 'Husbands_edu_level_dup', \n",
    "              'Husbands_literacy_dup',\n",
    "              'Knowledge_of_methods_dup']\n",
    "\n",
    "target3 = 'Current_method'\n",
    "\n",
    "X3 = non_preg3[features3]\n",
    "y3 = non_preg3[target3].astype(int)\n"
   ]
  },
  {
   "cell_type": "code",
   "execution_count": 41,
   "metadata": {},
   "outputs": [],
   "source": [
    "X_train_val, X_test, y_train_val, y_test = train_test_split(X3, y3, test_size = .20, random_state = 42)\n",
    "X_train, X_val, y_train, y_val = train_test_split(X_train_val, y_train_val, test_size = .20, random_state = 42)\n",
    "    "
   ]
  },
  {
   "cell_type": "code",
   "execution_count": 42,
   "metadata": {},
   "outputs": [
    {
     "data": {
      "text/plain": [
       "((5824, 22), (1456, 22), (5824,), (1456,))"
      ]
     },
     "execution_count": 42,
     "metadata": {},
     "output_type": "execute_result"
    }
   ],
   "source": [
    "X_train_val.shape, X_test.shape, y_train_val.shape, y_test.shape"
   ]
  },
  {
   "cell_type": "code",
   "execution_count": 43,
   "metadata": {},
   "outputs": [
    {
     "name": "stdout",
     "output_type": "stream",
     "text": [
      "              precision    recall  f1-score   support\n",
      "\n",
      "           0       0.69      0.59      0.63       460\n",
      "           1       0.12      0.03      0.05        67\n",
      "           2       0.69      0.81      0.75       638\n",
      "\n",
      "    accuracy                           0.68      1165\n",
      "   macro avg       0.50      0.48      0.48      1165\n",
      "weighted avg       0.66      0.68      0.66      1165\n",
      "\n"
     ]
    }
   ],
   "source": [
    "GB_non_preg3 = GradientBoostingClassifier(n_estimators=1000)\n",
    "GB_non_preg3.fit(X_train, y_train)\n",
    "y_pred_GB = GB_non_preg3.predict(X_val)\n",
    "print(classification_report(y_val, y_pred_GB))"
   ]
  },
  {
   "cell_type": "code",
   "execution_count": 44,
   "metadata": {},
   "outputs": [
    {
     "data": {
      "image/png": "[encoded data removed]",
      "text/plain": [
       "<Figure size 504x504 with 2 Axes>"
      ]
     },
     "metadata": {
      "needs_background": "light"
     },
     "output_type": "display_data"
    }
   ],
   "source": [
    "fig, ax = plt.subplots(figsize=(7, 7))\n",
    "plot_confusion_matrix(GB_non_preg3, X_test, y_test, ax=ax);"
   ]
  },
  {
   "cell_type": "code",
   "execution_count": 47,
   "metadata": {},
   "outputs": [],
   "source": [
    "importance_non_preg3_GB = GB_non_preg3.feature_importances_"
   ]
  },
  {
   "cell_type": "code",
   "execution_count": 48,
   "metadata": {},
   "outputs": [
    {
     "name": "stdout",
     "output_type": "stream",
     "text": [
      "Feature: 0, Score: 0.18524\n",
      "Feature: 1, Score: 0.06257\n",
      "Feature: 2, Score: 0.17492\n",
      "Feature: 3, Score: 0.05324\n",
      "Feature: 4, Score: 0.05753\n",
      "Feature: 5, Score: 0.05746\n",
      "Feature: 6, Score: 0.01757\n",
      "Feature: 7, Score: 0.01277\n",
      "Feature: 8, Score: 0.01674\n",
      "Feature: 9, Score: 0.03944\n",
      "Feature: 10, Score: 0.07440\n",
      "Feature: 11, Score: 0.08611\n",
      "Feature: 12, Score: 0.00918\n",
      "Feature: 13, Score: 0.01624\n",
      "Feature: 14, Score: 0.01985\n",
      "Feature: 15, Score: 0.01086\n",
      "Feature: 16, Score: 0.03259\n",
      "Feature: 17, Score: 0.02584\n",
      "Feature: 18, Score: 0.01137\n",
      "Feature: 19, Score: 0.02484\n",
      "Feature: 20, Score: 0.00866\n",
      "Feature: 21, Score: 0.00260\n"
     ]
    },
    {
     "data": {
      "image/png": "[encoded data removed]",
      "text/plain": [
       "<Figure size 720x360 with 1 Axes>"
      ]
     },
     "metadata": {
      "needs_background": "light"
     },
     "output_type": "display_data"
    }
   ],
   "source": [
    "for i,v in enumerate(importance_non_preg3_GB):\n",
    "    print('Feature: %0d, Score: %.5f' % (i,v))\n",
    "# plot feature importance\n",
    "plt.figure(figsize = (10,5))\n",
    "plt.bar([x for x in range(len(importance_non_preg3_GB))], importance_non_preg3_GB)\n",
    "plt.xticks([i for i in range(23)])\n",
    "plt.show()"
   ]
  },
  {
   "cell_type": "code",
   "execution_count": 49,
   "metadata": {},
   "outputs": [
    {
     "data": {
      "text/html": [
       "<div>\n",
       "<style scoped>\n",
       "    .dataframe tbody tr th:only-of-type {\n",
       "        vertical-align: middle;\n",
       "    }\n",
       "\n",
       "    .dataframe tbody tr th {\n",
       "        vertical-align: top;\n",
       "    }\n",
       "\n",
       "    .dataframe thead th {\n",
       "        text-align: right;\n",
       "    }\n",
       "</style>\n",
       "<table border=\"1\" class=\"dataframe\">\n",
       "  <thead>\n",
       "    <tr style=\"text-align: right;\">\n",
       "      <th></th>\n",
       "      <th>caseid</th>\n",
       "      <th>Age</th>\n",
       "      <th>Num_children_born</th>\n",
       "      <th>Num_living_children</th>\n",
       "      <th>age_at_first_marriage</th>\n",
       "      <th>age_at_first_intercourse</th>\n",
       "      <th>freq_of_intercourse</th>\n",
       "      <th>Religion_dup</th>\n",
       "      <th>children_in_residence</th>\n",
       "      <th>Knowledge_of_ovulatory_cycle_dup</th>\n",
       "      <th>...</th>\n",
       "      <th>Woman_currently_working_dup</th>\n",
       "      <th>heard_FP_message_in_last_month_dup</th>\n",
       "      <th>Has_transportation</th>\n",
       "      <th>media_exposure_level</th>\n",
       "      <th>Education_level_dup</th>\n",
       "      <th>Literacy_dup</th>\n",
       "      <th>Husbands_edu_level_dup</th>\n",
       "      <th>Husbands_literacy_dup</th>\n",
       "      <th>Knowledge_of_methods_dup</th>\n",
       "      <th>Current_method</th>\n",
       "    </tr>\n",
       "  </thead>\n",
       "  <tbody>\n",
       "    <tr>\n",
       "      <th>0</th>\n",
       "      <td>11  1  1  2</td>\n",
       "      <td>41</td>\n",
       "      <td>6</td>\n",
       "      <td>5</td>\n",
       "      <td>15</td>\n",
       "      <td>15.0</td>\n",
       "      <td>4.0</td>\n",
       "      <td>1</td>\n",
       "      <td>0</td>\n",
       "      <td>1</td>\n",
       "      <td>...</td>\n",
       "      <td>1</td>\n",
       "      <td>1</td>\n",
       "      <td>1</td>\n",
       "      <td>1</td>\n",
       "      <td>2</td>\n",
       "      <td>2</td>\n",
       "      <td>1</td>\n",
       "      <td>2</td>\n",
       "      <td>1</td>\n",
       "      <td>0</td>\n",
       "    </tr>\n",
       "    <tr>\n",
       "      <th>1</th>\n",
       "      <td>11  1  4  4</td>\n",
       "      <td>27</td>\n",
       "      <td>5</td>\n",
       "      <td>5</td>\n",
       "      <td>18</td>\n",
       "      <td>18.0</td>\n",
       "      <td>4.0</td>\n",
       "      <td>1</td>\n",
       "      <td>1</td>\n",
       "      <td>1</td>\n",
       "      <td>...</td>\n",
       "      <td>0</td>\n",
       "      <td>1</td>\n",
       "      <td>1</td>\n",
       "      <td>3</td>\n",
       "      <td>2</td>\n",
       "      <td>2</td>\n",
       "      <td>2</td>\n",
       "      <td>2</td>\n",
       "      <td>1</td>\n",
       "      <td>0</td>\n",
       "    </tr>\n",
       "  </tbody>\n",
       "</table>\n",
       "<p>2 rows × 24 columns</p>\n",
       "</div>"
      ],
      "text/plain": [
       "            caseid  Age  Num_children_born  Num_living_children  \\\n",
       "0      11  1  1  2   41                  6                    5   \n",
       "1      11  1  4  4   27                  5                    5   \n",
       "\n",
       "   age_at_first_marriage age_at_first_intercourse freq_of_intercourse  \\\n",
       "0                     15                     15.0                 4.0   \n",
       "1                     18                     18.0                 4.0   \n",
       "\n",
       "  Religion_dup children_in_residence Knowledge_of_ovulatory_cycle_dup  ...  \\\n",
       "0            1                     0                                1  ...   \n",
       "1            1                     1                                1  ...   \n",
       "\n",
       "  Woman_currently_working_dup heard_FP_message_in_last_month_dup  \\\n",
       "0                           1                                  1   \n",
       "1                           0                                  1   \n",
       "\n",
       "  Has_transportation media_exposure_level Education_level_dup Literacy_dup  \\\n",
       "0                  1                    1                   2            2   \n",
       "1                  1                    3                   2            2   \n",
       "\n",
       "   Husbands_edu_level_dup  Husbands_literacy_dup Knowledge_of_methods_dup  \\\n",
       "0                       1                      2                        1   \n",
       "1                       2                      2                        1   \n",
       "\n",
       "  Current_method  \n",
       "0              0  \n",
       "1              0  \n",
       "\n",
       "[2 rows x 24 columns]"
      ]
     },
     "execution_count": 49,
     "metadata": {},
     "output_type": "execute_result"
    }
   ],
   "source": [
    "non_preg3.head(2)"
   ]
  },
  {
   "cell_type": "code",
   "execution_count": 52,
   "metadata": {},
   "outputs": [],
   "source": [
    "X_train, y_train, X_val, y_val, X_test, y_test = train_val_test(non_preg3, features3, target3)"
   ]
  },
  {
   "cell_type": "code",
   "execution_count": 53,
   "metadata": {},
   "outputs": [
    {
     "data": {
      "text/plain": [
       "((1165, 22), (1165,))"
      ]
     },
     "execution_count": 53,
     "metadata": {},
     "output_type": "execute_result"
    }
   ],
   "source": [
    "X_val.shape, y_val.shape"
   ]
  },
  {
   "cell_type": "code",
   "execution_count": 57,
   "metadata": {},
   "outputs": [
    {
     "name": "stderr",
     "output_type": "stream",
     "text": [
      "/opt/anaconda3/lib/python3.8/site-packages/sklearn/linear_model/_logistic.py:762: ConvergenceWarning: lbfgs failed to converge (status=1):\n",
      "STOP: TOTAL NO. of ITERATIONS REACHED LIMIT.\n",
      "\n",
      "Increase the number of iterations (max_iter) or scale the data as shown in:\n",
      "    https://scikit-learn.org/stable/modules/preprocessing.html\n",
      "Please also refer to the documentation for alternative solver options:\n",
      "    https://scikit-learn.org/stable/modules/linear_model.html#logistic-regression\n",
      "  n_iter_i = _check_optimize_result(\n",
      "/opt/anaconda3/lib/python3.8/site-packages/sklearn/metrics/_classification.py:1221: UndefinedMetricWarning: Precision and F-score are ill-defined and being set to 0.0 in labels with no predicted samples. Use `zero_division` parameter to control this behavior.\n",
      "  _warn_prf(average, modifier, msg_start, len(result))\n"
     ]
    },
    {
     "name": "stdout",
     "output_type": "stream",
     "text": [
      "Logistic Regression Train score: 0.6836230950847821\n",
      "Logistic Regression Validate score: 0.6592274678111588\n",
      "Logistic Regression Classification Report\n",
      "              precision    recall  f1-score   support\n",
      "\n",
      "           0       0.71      0.45      0.55       460\n",
      "           1       0.00      0.00      0.00        67\n",
      "           2       0.64      0.88      0.74       638\n",
      "\n",
      "    accuracy                           0.66      1165\n",
      "   macro avg       0.45      0.44      0.43      1165\n",
      "weighted avg       0.63      0.66      0.62      1165\n",
      "\n",
      "Logistic Regression Confusion Matrix\n",
      "None\n",
      "knn Training Score: 0.716677398583387\n",
      "knn Test Score: 0.6291845493562231\n",
      "knn Classification Report\n",
      "              precision    recall  f1-score   support\n",
      "\n",
      "           0       0.61      0.50      0.55       460\n",
      "           1       0.00      0.00      0.00        67\n",
      "           2       0.65      0.79      0.71       638\n",
      "\n",
      "    accuracy                           0.63      1165\n",
      "   macro avg       0.42      0.43      0.42      1165\n",
      "weighted avg       0.59      0.63      0.61      1165\n",
      "\n",
      "knn Confusion Matrix\n",
      "None\n",
      "RandomForestClassifier Classification Report\n",
      "              precision    recall  f1-score   support\n",
      "\n",
      "           0       0.67      0.57      0.62       460\n",
      "           1       0.00      0.00      0.00        67\n",
      "           2       0.68      0.82      0.74       638\n",
      "\n",
      "    accuracy                           0.68      1165\n",
      "   macro avg       0.45      0.46      0.45      1165\n",
      "weighted avg       0.64      0.68      0.65      1165\n",
      "\n",
      "RandomForestClassifier Confusion Matrix\n",
      "RandomForestClassifier feature importance\n",
      "Feature: 0, Score: 0.15303\n",
      "Feature: 1, Score: 0.09218\n",
      "Feature: 2, Score: 0.09308\n",
      "Feature: 3, Score: 0.08825\n",
      "Feature: 4, Score: 0.08680\n",
      "Feature: 5, Score: 0.08791\n",
      "Feature: 6, Score: 0.01681\n",
      "Feature: 7, Score: 0.02191\n",
      "Feature: 8, Score: 0.02486\n",
      "Feature: 9, Score: 0.01476\n",
      "Feature: 10, Score: 0.03171\n",
      "Feature: 11, Score: 0.04124\n",
      "Feature: 12, Score: 0.01831\n",
      "Feature: 13, Score: 0.01800\n",
      "Feature: 14, Score: 0.02274\n",
      "Feature: 15, Score: 0.02709\n",
      "Feature: 16, Score: 0.05343\n",
      "Feature: 17, Score: 0.02681\n",
      "Feature: 18, Score: 0.01838\n",
      "Feature: 19, Score: 0.03873\n",
      "Feature: 20, Score: 0.01766\n",
      "Feature: 21, Score: 0.00632\n"
     ]
    },
    {
     "data": {
      "image/png": "[encoded data removed]",
      "text/plain": [
       "<Figure size 504x504 with 2 Axes>"
      ]
     },
     "metadata": {
      "needs_background": "light"
     },
     "output_type": "display_data"
    },
    {
     "data": {
      "image/png": "[encoded data removed]",
      "text/plain": [
       "<Figure size 504x504 with 2 Axes>"
      ]
     },
     "metadata": {
      "needs_background": "light"
     },
     "output_type": "display_data"
    },
    {
     "data": {
      "image/png": "[encoded data removed]",
      "text/plain": [
       "<Figure size 504x504 with 2 Axes>"
      ]
     },
     "metadata": {
      "needs_background": "light"
     },
     "output_type": "display_data"
    },
    {
     "data": {
      "image/png": "[encoded data removed]",
      "text/plain": [
       "<Figure size 720x360 with 1 Axes>"
      ]
     },
     "metadata": {
      "needs_background": "light"
     },
     "output_type": "display_data"
    },
    {
     "name": "stdout",
     "output_type": "stream",
     "text": [
      "None\n",
      "GradientBoodtingClassifier Classification Report\n",
      "              precision    recall  f1-score   support\n",
      "\n",
      "           0       1.00      1.00      1.00       460\n",
      "           1       1.00      1.00      1.00        67\n",
      "           2       1.00      1.00      1.00       638\n",
      "\n",
      "    accuracy                           1.00      1165\n",
      "   macro avg       1.00      1.00      1.00      1165\n",
      "weighted avg       1.00      1.00      1.00      1165\n",
      "\n",
      "GradientBoodtingClassifier Confusion Matrix\n",
      "GradientBoodtingClassifier feature importance\n",
      "Feature: 0, Score: 0.18517\n",
      "Feature: 1, Score: 0.06238\n",
      "Feature: 2, Score: 0.17476\n",
      "Feature: 3, Score: 0.05212\n",
      "Feature: 4, Score: 0.05844\n",
      "Feature: 5, Score: 0.05785\n",
      "Feature: 6, Score: 0.01758\n",
      "Feature: 7, Score: 0.01285\n",
      "Feature: 8, Score: 0.01681\n",
      "Feature: 9, Score: 0.03936\n",
      "Feature: 10, Score: 0.07436\n",
      "Feature: 11, Score: 0.08608\n",
      "Feature: 12, Score: 0.00886\n",
      "Feature: 13, Score: 0.01646\n",
      "Feature: 14, Score: 0.01987\n",
      "Feature: 15, Score: 0.01098\n",
      "Feature: 16, Score: 0.03246\n",
      "Feature: 17, Score: 0.02589\n",
      "Feature: 18, Score: 0.01142\n",
      "Feature: 19, Score: 0.02512\n",
      "Feature: 20, Score: 0.00857\n",
      "Feature: 21, Score: 0.00260\n"
     ]
    },
    {
     "data": {
      "image/png": "[encoded data removed]",
      "text/plain": [
       "<Figure size 504x504 with 2 Axes>"
      ]
     },
     "metadata": {
      "needs_background": "light"
     },
     "output_type": "display_data"
    },
    {
     "data": {
      "image/png": "[encoded data removed]",
      "text/plain": [
       "<Figure size 720x360 with 1 Axes>"
      ]
     },
     "metadata": {
      "needs_background": "light"
     },
     "output_type": "display_data"
    },
    {
     "name": "stdout",
     "output_type": "stream",
     "text": [
      "None\n"
     ]
    }
   ],
   "source": [
    "compare(X_train, y_train, X_val, y_val)"
   ]
  },
  {
   "cell_type": "code",
   "execution_count": null,
   "metadata": {},
   "outputs": [],
   "source": []
  }
 ],
 "metadata": {
  "kernelspec": {
   "display_name": "Python 3",
   "language": "python",
   "name": "python3"
  },
  "language_info": {
   "codemirror_mode": {
    "name": "ipython",
    "version": 3
   },
   "file_extension": ".py",
   "mimetype": "text/x-python",
   "name": "python",
   "nbconvert_exporter": "python",
   "pygments_lexer": "ipython3",
   "version": "3.8.3"
  }
 },
 "nbformat": 4,
 "nbformat_minor": 4
}
